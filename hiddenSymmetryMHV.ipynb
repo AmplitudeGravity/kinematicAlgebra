{
 "cells": [
  {
   "cell_type": "markdown",
   "metadata": {},
   "source": [
    "# Hidden symmetry \n",
    "## The motivation\n",
    "* Go beyond the integeralbility \n",
    "* Exploring the new structure of non-plannar amplitude\n",
    "* Understanding the gauge/gravity duality deeply \n",
    "\n",
    "## The expected properties of the symmetry \n",
    "* Leave the amplitude invariant \n",
    "* The hidden symmetry is a global symmetry\n",
    "* There are some factors which related to the ordering in the kinematic algebra when symmetry act on the external legs \n",
    "* The structure constant of the algebra should be the BCJ numerator \n",
    "* It should be Yangian symmetry for the planar amplitude\n",
    "* It have martix representation in the spinor space"
   ]
  },
  {
   "cell_type": "markdown",
   "metadata": {},
   "source": [
    "# The function of the algebra product  "
   ]
  },
  {
   "cell_type": "code",
   "execution_count": 3,
   "metadata": {},
   "outputs": [
    {
     "ename": "ArgumentError",
     "evalue": "ArgumentError: Package vectorDot not found in current path:\n- Run `import Pkg; Pkg.add(\"vectorDot\")` to install the vectorDot package.\n",
     "output_type": "error",
     "traceback": [
      "ArgumentError: Package vectorDot not found in current path:\n- Run `import Pkg; Pkg.add(\"vectorDot\")` to install the vectorDot package.\n",
      "",
      "Stacktrace:",
      " [1] require(::Module, ::Symbol) at ./loading.jl:823",
      " [2] top-level scope at In[3]:1"
     ]
    }
   ],
   "source": [
    "using vectorDot"
   ]
  },
  {
   "cell_type": "markdown",
   "metadata": {},
   "source": [
    "# BCJ relations and the map from DDM basis to minimal basis"
   ]
  },
  {
   "cell_type": "code",
   "execution_count": 2,
   "metadata": {},
   "outputs": [
    {
     "data": {
      "text/plain": [
       "1"
      ]
     },
     "execution_count": 2,
     "metadata": {},
     "output_type": "execute_result"
    }
   ],
   "source": [
    "a=1"
   ]
  },
  {
   "cell_type": "code",
   "execution_count": 1,
   "metadata": {},
   "outputs": [
    {
     "data": {
      "text/plain": [
       "1"
      ]
     },
     "execution_count": 1,
     "metadata": {},
     "output_type": "execute_result"
    }
   ],
   "source": [
    "sx=1"
   ]
  },
  {
   "cell_type": "markdown",
   "metadata": {},
   "source": [
    "# Ansatz of the symmetry action on the external legs"
   ]
  },
  {
   "cell_type": "code",
   "execution_count": null,
   "metadata": {},
   "outputs": [],
   "source": []
  },
  {
   "cell_type": "markdown",
   "metadata": {},
   "source": [
    "# Equations from the requirement of the amplitude invariant."
   ]
  },
  {
   "cell_type": "code",
   "execution_count": null,
   "metadata": {},
   "outputs": [],
   "source": []
  }
 ],
 "metadata": {
  "kernelspec": {
   "display_name": "Julia 1.1.0",
   "language": "julia",
   "name": "julia-1.1"
  },
  "language_info": {
   "file_extension": ".jl",
   "mimetype": "application/julia",
   "name": "julia",
   "version": "1.1.0"
  }
 },
 "nbformat": 4,
 "nbformat_minor": 2
}
