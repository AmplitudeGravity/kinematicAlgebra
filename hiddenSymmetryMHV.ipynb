{
 "cells": [
  {
   "cell_type": "markdown",
   "metadata": {},
   "source": [
    "# Hidden symmetry \n",
    "## The motivation\n",
    "* Go beyond the integeralbility \n",
    "* Exploring the new structure of non-plannar amplitude\n",
    "* Understanding the gauge/gravity duality deeply \n",
    "\n",
    "## The expected properties of the symmetry \n",
    "* Leave the amplitude invariant \n",
    "* The hidden symmetry is a global symmetry\n",
    "* There are some factors which related to the ordering in the kinematic algebra when symmetry act on the external legs \n",
    "* The structure constant of the algebra should be the BCJ numerator \n",
    "* It should be Yangian symmetry for the planar amplitude\n",
    "* It have martix representation in the spinor space"
   ]
  },
  {
   "cell_type": "markdown",
   "metadata": {},
   "source": [
    "# The function of the algebra product  "
   ]
  },
  {
   "cell_type": "code",
   "execution_count": 2,
   "metadata": {},
   "outputs": [],
   "source": [
    " push!(LOAD_PATH, \"/Users/gangchen/Dropbox/YM_BCJ/HiddenSymmetry\");"
   ]
  },
  {
   "cell_type": "code",
   "execution_count": 3,
   "metadata": {},
   "outputs": [],
   "source": [
    "using vectorDot\n",
    "using SymEngine\n",
    "using Latexify\n",
    "using LaTeXStrings"
   ]
  },
  {
   "cell_type": "code",
   "execution_count": 4,
   "metadata": {},
   "outputs": [],
   "source": [
    "p1=vecSym(\"p₁\");p2=vecSym(\"p₂\");p3=vecSym(\"p₃\");p4=vecSym(\"p₄\");p5=vecSym(\"p₅\");p6=vecSym(\"p₆\");\n",
    "p7=vecSym(\"p₇\");\n",
    "ϵ1=vecSym(\"ϵ₁\");\n",
    "ϵ2=vecSym(\"ϵ₂\");ϵ3=vecSym(\"ϵ₃\");ϵ4=vecSym(\"ϵ₄\");ϵ5=vecSym(\"ϵ₅\");ϵ6=vecSym(\"ϵ₆\");ϵ7=vecSym(\"ϵ₇\");\n",
    "a1=symbols(\"a_1\");\n",
    "a2=symbols(\"a_2\");\n",
    "a3=symbols(\"a_3\");"
   ]
  },
  {
   "cell_type": "code",
   "execution_count": 5,
   "metadata": {},
   "outputs": [],
   "source": [
    "mutable struct J <: Number\n",
    "    comp\n",
    "    index::Int64 \n",
    "    mom\n",
    "    function J(x,i::Int64,p)\n",
    "        new(x,i,p)\n",
    "    end\n",
    "end"
   ]
  },
  {
   "cell_type": "code",
   "execution_count": 6,
   "metadata": {},
   "outputs": [],
   "source": [
    " struct scalarJTimes <: Number\n",
    "        scalar::Basic\n",
    "        vec::J\n",
    "        function scalarJTimes(x::Basic,y::J)\n",
    "            new(x,y)\n",
    "        end\n",
    "    end"
   ]
  },
  {
   "cell_type": "code",
   "execution_count": 7,
   "metadata": {},
   "outputs": [],
   "source": [
    "function Base.show(io::IO, y::scalarJTimes)\n",
    "        print(io,\"[\",y.scalar,\"]\"*\" \",y.vec)\n",
    "    end"
   ]
  },
  {
   "cell_type": "code",
   "execution_count": 27,
   "metadata": {},
   "outputs": [],
   "source": [
    "  struct JAdd <: Number\n",
    "        list\n",
    "        function JAdd(x)\n",
    "            new(x)\n",
    "        end\n",
    "    end\n",
    "\n",
    "    function Base.show(io::IO, y::JAdd)\n",
    "        str=\"\";\n",
    "        args=y.list;\n",
    "        for i in 1:length(args)\n",
    "            arg = args[i]\n",
    "            str = string(str, arg)\n",
    "            i != length(args) && (str *= \" \"*\" \"*\"+\"*\" \"*\" \")\n",
    "        end\n",
    "        print(io, str)\n",
    "    end"
   ]
  },
  {
   "cell_type": "code",
   "execution_count": 28,
   "metadata": {},
   "outputs": [
    {
     "data": {
      "text/plain": [
       "+ (generic function with 182 methods)"
      ]
     },
     "execution_count": 28,
     "metadata": {},
     "output_type": "execute_result"
    }
   ],
   "source": [
    " import Base.*\n",
    "    *(x::Basic,y::J)= scalarJTimes(x,y)\n",
    "    *(x::Basic,y::scalarJTimes)= scalarJTimes(x*y.scalar,y.vec)\n",
    "    *(y::scalarJTimes,x::Basic)=*(x::Basic,y::scalarJTimes)\n",
    "    *(x::Basic,y::JAdd)= JAdd(x.*y.list)\n",
    "    import Base.+\n",
    "    +(x::J,y::J)= JAdd((x,y))\n",
    "    #+(x::J,y...)= JAdd((x,y...))\n",
    "    +(x::scalarJTimes,y::J)= JAdd((x,y))\n",
    "    +(x::scalarJTimes,y::scalarJTimes)= JAdd((x,y))\n",
    "   # +(x::scalarJTimes,y...)= JAdd((x,y...))\n",
    "    +(x::JAdd,y::scalarJTimes)= JAdd(((x.list)...,y))\n",
    "   +(y::scalarJTimes,x::JAdd)= +(x,y)\n",
    "    +(x::JAdd,y::J)= JAdd(((x.list)...,y))\n",
    "    +(y::J, x::JAdd)= JAdd((y, (x.list)...))\n",
    "    +(y::JAdd, x::JAdd)= JAdd(((y.list)..., (x.list)...))\n",
    "    #+(x::Tuple{J})= JAdd(x)"
   ]
  },
  {
   "cell_type": "code",
   "execution_count": 29,
   "metadata": {},
   "outputs": [
    {
     "data": {
      "text/plain": [
       "J(ϵ₁, 0, +(p₁, p₂))"
      ]
     },
     "execution_count": 29,
     "metadata": {},
     "output_type": "execute_result"
    }
   ],
   "source": [
    "jj1=J((ϵ1),0,p1+p2) "
   ]
  },
  {
   "cell_type": "code",
   "execution_count": 30,
   "metadata": {},
   "outputs": [
    {
     "data": {
      "text/plain": [
       "true"
      ]
     },
     "execution_count": 30,
     "metadata": {},
     "output_type": "execute_result"
    }
   ],
   "source": [
    "jj1.comp.name[1]=='ϵ'"
   ]
  },
  {
   "cell_type": "code",
   "execution_count": 31,
   "metadata": {},
   "outputs": [
    {
     "data": {
      "text/plain": [
       "[(p₁⋅ϵ₂)] J(ϵ₁, 0, +(p₁, p₂))  +  [(p₁⋅ϵ₂)] J(ϵ₁, 0, +(p₁, p₂))  +  [(p₁⋅ϵ₂)] J(ϵ₁, 0, +(p₁, p₂))"
      ]
     },
     "execution_count": 31,
     "metadata": {},
     "output_type": "execute_result"
    }
   ],
   "source": [
    "(dot(p1,ϵ2)*J((ϵ1),0,p1+p2)+dot(p1,ϵ2)*J((ϵ1),0,p1+p2) )+dot(p1,ϵ2)*J((ϵ1),0,p1+p2)"
   ]
  },
  {
   "cell_type": "code",
   "execution_count": 32,
   "metadata": {},
   "outputs": [
    {
     "data": {
      "text/plain": [
       "⋆ (generic function with 4 methods)"
      ]
     },
     "execution_count": 32,
     "metadata": {},
     "output_type": "execute_result"
    }
   ],
   "source": [
    "function ⋆(j1::J,j2::J)\n",
    "    if j1.comp.name[1]=='ϵ'\n",
    "       # print(\"this is epsilon\",j1.comp.name[1])\n",
    "        dot(j2.comp,j1.mom)*J(j1.comp,0,j1.mom+j2.mom) +1//2*dot(j1.comp,j2.comp)*J(j2.mom,0,j1.mom+j2.mom)\n",
    "    elseif j1.comp.name[1]=='p'\n",
    "       # print(\"this is p\")\n",
    "        dot(j2.comp,j1.mom)*J(j1.comp,0,j1.mom+j2.mom) +dot(j1.comp,j2.comp)*J(j2.mom,0,j1.mom+j2.mom)\n",
    "    end\n",
    "end\n",
    "\n",
    "    function ⋆(x::scalarJTimes,y::J)\n",
    "        x.scalar*⋆(x.vec,y)\n",
    "    end\n",
    "    function ⋆(x::JAdd,y::J)\n",
    "        xx = x.list;\n",
    "        s=⋆(xx[1],y);\n",
    "        for i=2:length(xx)\n",
    "           s+=⋆(xx[i],y)\n",
    "        end\n",
    "        return s\n",
    "    end\n",
    "    function ⋆(x::JAdd,y::scalarJTimes)\n",
    "       y.scalar*⋆(x,y.vec)\n",
    "    end"
   ]
  },
  {
   "cell_type": "code",
   "execution_count": 33,
   "metadata": {
    "scrolled": false
   },
   "outputs": [
    {
     "data": {
      "text/plain": [
       "[(p₁⋅ϵ₂)*((p₁⋅ϵ₃) + (p₂⋅ϵ₃))] J(ϵ₁, 0, +(p₁, p₂, p₃))  +  [(1/2)*(p₁⋅ϵ₂)*(ϵ₁⋅ϵ₃)] J(p₃, 0, +(p₁, p₂, p₃))  +  [(1/2)*((p₁⋅ϵ₃) + (p₂⋅ϵ₃))*(ϵ₁⋅ϵ₂)] J(p₂, 0, +(p₁, p₂, p₃))  +  [(1/2)*(p₂⋅ϵ₃)*(ϵ₁⋅ϵ₂)] J(p₃, 0, +(p₁, p₂, p₃))"
      ]
     },
     "execution_count": 33,
     "metadata": {},
     "output_type": "execute_result"
    }
   ],
   "source": [
    "ttt=J((ϵ1),0,p1)⋆J((ϵ2),0,p2)⋆J((ϵ3),0,p3)"
   ]
  },
  {
   "cell_type": "code",
   "execution_count": 34,
   "metadata": {
    "scrolled": false
   },
   "outputs": [
    {
     "data": {
      "text/latex": [
       "$[(p₁⋅ϵ₂)*((p₁⋅ϵ₃) + (p₂⋅ϵ₃))] J(ϵ₁, 0, +(p₁, p₂, p₃))  +  [(1/2)*(p₁⋅ϵ₂)*(ϵ₁⋅ϵ₃)] J(p₃, 0, +(p₁, p₂, p₃))  +  [(1/2)*((p₁⋅ϵ₃) + (p₂⋅ϵ₃))*(ϵ₁⋅ϵ₂)] J(p₂, 0, +(p₁, p₂, p₃))  +  [(1/2)*(p₂⋅ϵ₃)*(ϵ₁⋅ϵ₂)] J(p₃, 0, +(p₁, p₂, p₃))$"
      ],
      "text/plain": [
       "L\"$[(p₁⋅ϵ₂)*((p₁⋅ϵ₃) + (p₂⋅ϵ₃))] J(ϵ₁, 0, +(p₁, p₂, p₃))  +  [(1/2)*(p₁⋅ϵ₂)*(ϵ₁⋅ϵ₃)] J(p₃, 0, +(p₁, p₂, p₃))  +  [(1/2)*((p₁⋅ϵ₃) + (p₂⋅ϵ₃))*(ϵ₁⋅ϵ₂)] J(p₂, 0, +(p₁, p₂, p₃))  +  [(1/2)*(p₂⋅ϵ₃)*(ϵ₁⋅ϵ₂)] J(p₃, 0, +(p₁, p₂, p₃))$\""
      ]
     },
     "execution_count": 34,
     "metadata": {},
     "output_type": "execute_result"
    }
   ],
   "source": [
    "latexify(ttt)"
   ]
  },
  {
   "cell_type": "markdown",
   "metadata": {},
   "source": [
    "# BCJ relations and the map from DDM basis to minimal basis"
   ]
  },
  {
   "cell_type": "code",
   "execution_count": 20,
   "metadata": {},
   "outputs": [
    {
     "data": {
      "text/plain": [
       "10*a_2*a_1^9 + 196830*a_2*a_3^9 + 45*a_2^2*a_1^8 + 295245*a_2^2*a_3^8 + 120*a_2^3*a_1^7 + 262440*a_2^3*a_3^7 + 210*a_2^4*a_1^6 + 153090*a_2^4*a_3^6 + 252*a_2^5*a_1^5 + 61236*a_2^5*a_3^5 + 210*a_2^6*a_1^4 + 17010*a_2^6*a_3^4 + 120*a_2^7*a_1^3 + 3240*a_2^7*a_3^3 + 45*a_2^8*a_1^2 + 405*a_2^8*a_3^2 + 10*a_2^9*a_1 + 30*a_2^9*a_3 + 30*a_3*a_1^9 + 405*a_3^2*a_1^8 + 3240*a_3^3*a_1^7 + 17010*a_3^4*a_1^6 + 61236*a_3^5*a_1^5 + 153090*a_3^6*a_1^4 + 262440*a_3^7*a_1^3 + 295245*a_3^8*a_1^2 + 196830*a_3^9*a_1 + 270*a_2*a_3*a_1^8 + 3240*a_2*a_3^2*a_1^7 + 22680*a_2*a_3^3*a_1^6 + 102060*a_2*a_3^4*a_1^5 + 306180*a_2*a_3^5*a_1^4 + 612360*a_2*a_3^6*a_1^3 + 787320*a_2*a_3^7*a_1^2 + 590490*a_2*a_3^8*a_1 + 1080*a_2^2*a_3*a_1^7 + 11340*a_2^2*a_3^2*a_1^6 + 68040*a_2^2*a_3^3*a_1^5 + 255150*a_2^2*a_3^4*a_1^4 + 612360*a_2^2*a_3^5*a_1^3 + 918540*a_2^2*a_3^6*a_1^2 + 787320*a_2^2*a_3^7*a_1 + 2520*a_2^3*a_3*a_1^6 + 22680*a_2^3*a_3^2*a_1^5 + 113400*a_2^3*a_3^3*a_1^4 + 340200*a_2^3*a_3^4*a_1^3 + 612360*a_2^3*a_3^5*a_1^2 + 612360*a_2^3*a_3^6*a_1 + 3780*a_2^4*a_3*a_1^5 + 28350*a_2^4*a_3^2*a_1^4 + 113400*a_2^4*a_3^3*a_1^3 + 255150*a_2^4*a_3^4*a_1^2 + 306180*a_2^4*a_3^5*a_1 + 3780*a_2^5*a_3*a_1^4 + 22680*a_2^5*a_3^2*a_1^3 + 68040*a_2^5*a_3^3*a_1^2 + 102060*a_2^5*a_3^4*a_1 + 2520*a_2^6*a_3*a_1^3 + 11340*a_2^6*a_3^2*a_1^2 + 22680*a_2^6*a_3^3*a_1 + 1080*a_2^7*a_3*a_1^2 + 3240*a_2^7*a_3^2*a_1 + 270*a_2^8*a_3*a_1 + a_1^10 + a_2^10 + 59049*a_3^10"
      ]
     },
     "execution_count": 20,
     "metadata": {},
     "output_type": "execute_result"
    }
   ],
   "source": [
    "expand((a1+a2+3a3)^10)"
   ]
  },
  {
   "cell_type": "code",
   "execution_count": 21,
   "metadata": {},
   "outputs": [
    {
     "data": {
      "text/plain": [
       "10*(p₁⋅ϵ₁)*(p₂⋅ϵ₂)^9 + 45*(p₁⋅ϵ₁)^2*(p₂⋅ϵ₂)^8 + 120*(p₁⋅ϵ₁)^3*(p₂⋅ϵ₂)^7 + 210*(p₁⋅ϵ₁)^4*(p₂⋅ϵ₂)^6 + 252*(p₁⋅ϵ₁)^5*(p₂⋅ϵ₂)^5 + 210*(p₁⋅ϵ₁)^6*(p₂⋅ϵ₂)^4 + 120*(p₁⋅ϵ₁)^7*(p₂⋅ϵ₂)^3 + 45*(p₁⋅ϵ₁)^8*(p₂⋅ϵ₂)^2 + 10*(p₁⋅ϵ₁)^9*(p₂⋅ϵ₂) + (p₁⋅ϵ₁)^10 + (p₂⋅ϵ₂)^10"
      ]
     },
     "execution_count": 21,
     "metadata": {},
     "output_type": "execute_result"
    }
   ],
   "source": [
    "tt=expand((dot(p1,ϵ1)+dot(p2,ϵ2))^10)"
   ]
  },
  {
   "cell_type": "code",
   "execution_count": null,
   "metadata": {},
   "outputs": [],
   "source": []
  },
  {
   "cell_type": "code",
   "execution_count": 22,
   "metadata": {},
   "outputs": [
    {
     "data": {
      "text/latex": [
       "$(p_2\\cdot\\epsilon_2)^{10} + 120  (p_1\\cdot\\epsilon_1)^{3}  (p_2\\cdot\\epsilon_2)^{7} + 45  (p_1\\cdot\\epsilon_1)^{2}  (p_2\\cdot\\epsilon_2)^{8} + 210  (p_1\\cdot\\epsilon_1)^{4}  (p_2\\cdot\\epsilon_2)^{6} + 252  (p_1\\cdot\\epsilon_1)^{5}  (p_2\\cdot\\epsilon_2)^{5} + 10  (p_1\\cdot\\epsilon_1)  (p_2\\cdot\\epsilon_2)^{9} + 210  (p_1\\cdot\\epsilon_1)^{6}  (p_2\\cdot\\epsilon_2)^{4} + 120  (p_1\\cdot\\epsilon_1)^{7}  (p_2\\cdot\\epsilon_2)^{3} + 45  (p_1\\cdot\\epsilon_1)^{8}  (p_2\\cdot\\epsilon_2)^{2} + 10  (p_1\\cdot\\epsilon_1)^{9}  (p_2\\cdot\\epsilon_2) + (p_1\\cdot\\epsilon_1)^{10}$"
      ],
      "text/plain": [
       "L\"$(p_2\\cdot\\epsilon_2)^{10} + 120  (p_1\\cdot\\epsilon_1)^{3}  (p_2\\cdot\\epsilon_2)^{7} + 45  (p_1\\cdot\\epsilon_1)^{2}  (p_2\\cdot\\epsilon_2)^{8} + 210  (p_1\\cdot\\epsilon_1)^{4}  (p_2\\cdot\\epsilon_2)^{6} + 252  (p_1\\cdot\\epsilon_1)^{5}  (p_2\\cdot\\epsilon_2)^{5} + 10  (p_1\\cdot\\epsilon_1)  (p_2\\cdot\\epsilon_2)^{9} + 210  (p_1\\cdot\\epsilon_1)^{6}  (p_2\\cdot\\epsilon_2)^{4} + 120  (p_1\\cdot\\epsilon_1)^{7}  (p_2\\cdot\\epsilon_2)^{3} + 45  (p_1\\cdot\\epsilon_1)^{8}  (p_2\\cdot\\epsilon_2)^{2} + 10  (p_1\\cdot\\epsilon_1)^{9}  (p_2\\cdot\\epsilon_2) + (p_1\\cdot\\epsilon_1)^{10}$\""
      ]
     },
     "execution_count": 22,
     "metadata": {},
     "output_type": "execute_result"
    }
   ],
   "source": [
    "nice(tt)"
   ]
  },
  {
   "cell_type": "markdown",
   "metadata": {},
   "source": [
    "# Ansatz of the symmetry action on the external legs"
   ]
  },
  {
   "cell_type": "code",
   "execution_count": null,
   "metadata": {},
   "outputs": [],
   "source": []
  },
  {
   "cell_type": "markdown",
   "metadata": {},
   "source": [
    "# Equations from the requirement of the amplitude invariant."
   ]
  },
  {
   "cell_type": "code",
   "execution_count": null,
   "metadata": {},
   "outputs": [],
   "source": []
  }
 ],
 "metadata": {
  "kernelspec": {
   "display_name": "Julia 1.1.0",
   "language": "julia",
   "name": "julia-1.1"
  },
  "language_info": {
   "file_extension": ".jl",
   "mimetype": "application/julia",
   "name": "julia",
   "version": "1.1.0"
  }
 },
 "nbformat": 4,
 "nbformat_minor": 2
}
