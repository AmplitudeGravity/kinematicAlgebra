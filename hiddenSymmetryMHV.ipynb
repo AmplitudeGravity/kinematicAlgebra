{
 "cells": [
  {
   "cell_type": "markdown",
   "metadata": {},
   "source": [
    "# Hidden symmetry \n",
    "## The motivation\n",
    "* Go beyond the integeralbility \n",
    "* Exploring the new structure of non-plannar amplitude\n",
    "* Understanding the gauge/gravity duality deeply \n",
    "\n",
    "## The expected properties of the symmetry \n",
    "* Leave the amplitude invariant \n",
    "* The hidden symmetry is a global symmetry\n",
    "* There are some factors which related to the ordering in the kinematic algebra when symmetry act on the external legs \n",
    "* The structure constant of the algebra should be the BCJ numerator \n",
    "* It should be Yangian symmetry for the planar amplitude\n",
    "* It have martix representation in the spinor space"
   ]
  },
  {
   "cell_type": "markdown",
   "metadata": {},
   "source": [
    "# The function of the algebra product  "
   ]
  },
  {
   "cell_type": "code",
   "execution_count": 1,
   "metadata": {},
   "outputs": [],
   "source": [
    " push!(LOAD_PATH, \"/Users/gangchen/Dropbox/YM_BCJ/HiddenSymmetry\");"
   ]
  },
  {
   "cell_type": "code",
   "execution_count": 2,
   "metadata": {},
   "outputs": [],
   "source": [
    "using vectorDot\n",
    "using SymEngine\n",
    "using Latexify\n",
    "using LaTeXStrings"
   ]
  },
  {
   "cell_type": "code",
   "execution_count": 3,
   "metadata": {},
   "outputs": [],
   "source": [
    "p1=vecSym(\"p_1\");p2=vecSym(\"p_2\");p3=vecSym(\"p_3\");p4=vecSym(\"p_4\");p5=vecSym(\"p_5\");p6=vecSym(\"p_6\");\n",
    "p7=vecSym(\"p_7\");\n",
    "ϵ1=vecSym(\"ϵ_1\");\n",
    "ϵ2=vecSym(\"ϵ_2\");ϵ3=vecSym(\"ϵ_3\");ϵ4=vecSym(\"ϵ_4\");ϵ5=vecSym(\"ϵ_5\");ϵ6=vecSym(\"ϵ_6\");ϵ7=vecSym(\"ϵ_7\");\n",
    "a1=symbols(\"a_1\");\n",
    "a2=symbols(\"a_2\");\n",
    "a3=symbols(\"a_3\");"
   ]
  },
  {
   "cell_type": "code",
   "execution_count": 5,
   "metadata": {},
   "outputs": [],
   "source": [
    "mutable struct J <: Number\n",
    "    comp\n",
    "    index::Int64 \n",
    "    mom\n",
    "    function J(x,i::Int64,p)\n",
    "        new(x,i,p)\n",
    "    end\n",
    "end\n",
    " function Base.show(io::IO, cur::J)\n",
    "        Base.show(io, MIME(\"text/latex\"), cur)\n",
    " end\n",
    "function Base.show(io::IO, ::MIME\"text/latex\", cur::J)\n",
    "    id=\"(\"*string(cur.index)*\")\";\n",
    "    mm=cur.mom;\n",
    "    com=cur.comp.name;\n",
    "    print(io, \"\\$ J^{$id}_{$com}\\$\",\"(\",mm,\")\")\n",
    "end"
   ]
  },
  {
   "cell_type": "code",
   "execution_count": 7,
   "metadata": {},
   "outputs": [],
   "source": [
    " struct scalarJTimes <: Number\n",
    "        scalar::Basic\n",
    "        vec::J\n",
    "        function scalarJTimes(x::Basic,y::J)\n",
    "            new(x,y)\n",
    "        end\n",
    "    end\n",
    " function Base.show(io::IO, y::scalarJTimes)\n",
    "        Base.show(io, MIME(\"text/latex\"), y)\n",
    " end\n",
    "function Base.show(io::IO, ::MIME\"text/latex\", y::scalarJTimes)\n",
    "        print(io,\"[\",y.scalar,\"]\"*\" \",y.vec)\n",
    "end"
   ]
  },
  {
   "cell_type": "code",
   "execution_count": 8,
   "metadata": {},
   "outputs": [],
   "source": [
    "  struct JAdd <: Number\n",
    "        list\n",
    "        function JAdd(x)\n",
    "            new(x)\n",
    "        end\n",
    "    end\n",
    "function Base.show(io::IO, y::JAdd)\n",
    "        Base.show(io, MIME(\"text/latex\"), y)\n",
    " end\n",
    "    function Base.show(io::IO,::MIME\"text/latex\", y::JAdd)\n",
    "        str=\"\";\n",
    "        args=y.list;\n",
    "        for i in 1:length(args)\n",
    "            arg = args[i]\n",
    "            str = string(str, arg)\n",
    "            i != length(args) && (str *= \" \"*\" \"*\"+\"*\" \"*\" \")\n",
    "        end\n",
    "        print(io, str)\n",
    "    end"
   ]
  },
  {
   "cell_type": "code",
   "execution_count": 9,
   "metadata": {},
   "outputs": [
    {
     "data": {
      "text/plain": [
       "+ (generic function with 182 methods)"
      ]
     },
     "execution_count": 9,
     "metadata": {},
     "output_type": "execute_result"
    }
   ],
   "source": [
    " import Base.*\n",
    "    *(x::Basic,y::J)= scalarJTimes(x,y)\n",
    "    *(x::Basic,y::scalarJTimes)= scalarJTimes(x*y.scalar,y.vec)\n",
    "    *(y::scalarJTimes,x::Basic)=*(x::Basic,y::scalarJTimes)\n",
    "    *(x::Basic,y::JAdd)= JAdd(x.*y.list)\n",
    "    import Base.+\n",
    "    +(x::J,y::J)= JAdd((x,y))\n",
    "    #+(x::J,y...)= JAdd((x,y...))\n",
    "    +(x::scalarJTimes,y::J)= JAdd((x,y))\n",
    "    +(x::scalarJTimes,y::scalarJTimes)= JAdd((x,y))\n",
    "   # +(x::scalarJTimes,y...)= JAdd((x,y...))\n",
    "    +(x::JAdd,y::scalarJTimes)= JAdd(((x.list)...,y))\n",
    "   +(y::scalarJTimes,x::JAdd)= +(x,y)\n",
    "    +(x::JAdd,y::J)= JAdd(((x.list)...,y))\n",
    "    +(y::J, x::JAdd)= JAdd((y, (x.list)...))\n",
    "    +(y::JAdd, x::JAdd)= JAdd(((y.list)..., (x.list)...))\n",
    "    #+(x::Tuple{J})= JAdd(x)"
   ]
  },
  {
   "cell_type": "code",
   "execution_count": 16,
   "metadata": {},
   "outputs": [
    {
     "data": {
      "text/plain": [
       "⋆ (generic function with 4 methods)"
      ]
     },
     "execution_count": 16,
     "metadata": {},
     "output_type": "execute_result"
    }
   ],
   "source": [
    "function ⋆(j1::J,j2::J)\n",
    "    if j1.comp.name[1]=='ϵ'\n",
    "       # print(\"this is epsilon\",j1.comp.name[1])\n",
    "        dot(j2.comp,j1.mom)*J(j1.comp,0,j1.mom+j2.mom) +1//2*dot(j1.comp,j2.comp)*J(j2.mom,0,j1.mom+j2.mom)\n",
    "    elseif j1.comp.name[1]=='p'\n",
    "       # print(\"this is p\")\n",
    "        dot(j2.comp,j1.mom)*J(j1.comp,0,j1.mom+j2.mom) +dot(j1.comp,j2.comp)*J(j2.mom,0,j1.mom+j2.mom)\n",
    "    end\n",
    "end\n",
    "\n",
    "    function ⋆(x::scalarJTimes,y::J)\n",
    "        x.scalar*⋆(x.vec,y)\n",
    "    end\n",
    "    function ⋆(x::JAdd,y::J)\n",
    "        xx = x.list;\n",
    "        s=⋆(xx[1],y);\n",
    "        for i=2:length(xx)\n",
    "           s+=⋆(xx[i],y)\n",
    "        end\n",
    "        return s\n",
    "    end\n",
    "    function ⋆(x::JAdd,y::scalarJTimes)\n",
    "       y.scalar*⋆(x,y.vec)\n",
    "    end"
   ]
  },
  {
   "cell_type": "code",
   "execution_count": 17,
   "metadata": {},
   "outputs": [
    {
     "data": {
      "text/plain": [
       "todot (generic function with 3 methods)"
      ]
     },
     "execution_count": 17,
     "metadata": {},
     "output_type": "execute_result"
    }
   ],
   "source": [
    "function todot(y::J)\n",
    "    ynm=y.comp.name;\n",
    "   return symbols(ynm*\"⋅\"*\"ϵ_n\")\n",
    "end\n",
    "function todot(y::scalarJTimes)\n",
    "    y.scalar*todot(y.vec)\n",
    "end\n",
    "function todot(y::JAdd)\n",
    "    yy = y.list;\n",
    "        s=todot(yy[1]);\n",
    "        for i=2:length(yy)\n",
    "           s+=todot(yy[i])\n",
    "        end\n",
    "        return s\n",
    "end"
   ]
  },
  {
   "cell_type": "code",
   "execution_count": 19,
   "metadata": {
    "scrolled": false
   },
   "outputs": [
    {
     "data": {
      "text/latex": [
       "[(p_1⋅ϵ_3 + p_2⋅ϵ_3)*p_1⋅ϵ_2] $ J^{(0)}_{ϵ_1}$(+($ p_1 $, $ p_2 $, $ p_3 $))  +  [(1/2)*p_1⋅ϵ_2*ϵ_1⋅ϵ_3] $ J^{(0)}_{p_3}$(+($ p_1 $, $ p_2 $, $ p_3 $))  +  [(1/2)*(p_1⋅ϵ_3 + p_2⋅ϵ_3)*ϵ_1⋅ϵ_2] $ J^{(0)}_{p_2}$(+($ p_1 $, $ p_2 $, $ p_3 $))  +  [(1/2)*p_2⋅ϵ_3*ϵ_1⋅ϵ_2] $ J^{(0)}_{p_3}$(+($ p_1 $, $ p_2 $, $ p_3 $))"
      ],
      "text/plain": [
       "[(p_1⋅ϵ_3 + p_2⋅ϵ_3)*p_1⋅ϵ_2] $ J^{(0)}_{ϵ_1}$(+($ p_1 $, $ p_2 $, $ p_3 $))  +  [(1/2)*p_1⋅ϵ_2*ϵ_1⋅ϵ_3] $ J^{(0)}_{p_3}$(+($ p_1 $, $ p_2 $, $ p_3 $))  +  [(1/2)*(p_1⋅ϵ_3 + p_2⋅ϵ_3)*ϵ_1⋅ϵ_2] $ J^{(0)}_{p_2}$(+($ p_1 $, $ p_2 $, $ p_3 $))  +  [(1/2)*p_2⋅ϵ_3*ϵ_1⋅ϵ_2] $ J^{(0)}_{p_3}$(+($ p_1 $, $ p_2 $, $ p_3 $))"
      ]
     },
     "execution_count": 19,
     "metadata": {},
     "output_type": "execute_result"
    }
   ],
   "source": [
    "ttt=J((ϵ1),0,p1)⋆J((ϵ2),0,p2)⋆J((ϵ3),0,p3)"
   ]
  },
  {
   "cell_type": "code",
   "execution_count": 20,
   "metadata": {},
   "outputs": [
    {
     "data": {
      "text/plain": [
       "p_1⋅ϵ_2*p_2⋅ϵ_3*ϵ_1⋅ϵ_n + (1/2)*p_1⋅ϵ_2*p_3⋅ϵ_n*ϵ_1⋅ϵ_3 + p_1⋅ϵ_3*p_1⋅ϵ_2*ϵ_1⋅ϵ_n + (1/2)*p_1⋅ϵ_3*p_2⋅ϵ_n*ϵ_1⋅ϵ_2 + (1/2)*p_2⋅ϵ_3*p_2⋅ϵ_n*ϵ_1⋅ϵ_2 + (1/2)*p_2⋅ϵ_3*p_3⋅ϵ_n*ϵ_1⋅ϵ_2"
      ]
     },
     "execution_count": 20,
     "metadata": {},
     "output_type": "execute_result"
    }
   ],
   "source": [
    "tt2=expand(todot(ttt))"
   ]
  },
  {
   "cell_type": "code",
   "execution_count": 21,
   "metadata": {},
   "outputs": [
    {
     "data": {
      "text/latex": [
       "$ p_1⋅ϵ_2*p_2⋅ϵ_3*ϵ_1⋅ϵ_n + (1/2)*p_1⋅ϵ_2*p_3⋅ϵ_n*ϵ_1⋅ϵ_3 + p_1⋅ϵ_3*p_1⋅ϵ_2*ϵ_1⋅ϵ_n + (1/2)*p_1⋅ϵ_3*p_2⋅ϵ_n*ϵ_1⋅ϵ_2 + (1/2)*p_2⋅ϵ_3*p_2⋅ϵ_n*ϵ_1⋅ϵ_2 + (1/2)*p_2⋅ϵ_3*p_3⋅ϵ_n*ϵ_1⋅ϵ_2 $ "
      ]
     },
     "metadata": {},
     "output_type": "display_data"
    }
   ],
   "source": [
    "nice(tt2)"
   ]
  },
  {
   "cell_type": "markdown",
   "metadata": {},
   "source": [
    "# BCJ relations and the map from DDM basis to minimal basis"
   ]
  },
  {
   "cell_type": "code",
   "execution_count": null,
   "metadata": {},
   "outputs": [],
   "source": []
  },
  {
   "cell_type": "markdown",
   "metadata": {},
   "source": [
    "# Ansatz of the symmetry action on the external legs"
   ]
  },
  {
   "cell_type": "code",
   "execution_count": null,
   "metadata": {},
   "outputs": [],
   "source": []
  },
  {
   "cell_type": "markdown",
   "metadata": {},
   "source": [
    "# Equations from the requirement of the amplitude invariant."
   ]
  },
  {
   "cell_type": "code",
   "execution_count": null,
   "metadata": {},
   "outputs": [],
   "source": []
  }
 ],
 "metadata": {
  "kernelspec": {
   "display_name": "Julia 1.1.0",
   "language": "julia",
   "name": "julia-1.1"
  },
  "language_info": {
   "file_extension": ".jl",
   "mimetype": "application/julia",
   "name": "julia",
   "version": "1.1.0"
  }
 },
 "nbformat": 4,
 "nbformat_minor": 2
}
