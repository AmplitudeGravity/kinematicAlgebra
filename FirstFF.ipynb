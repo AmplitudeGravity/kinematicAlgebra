{
 "cells": [
  {
   "cell_type": "markdown",
   "metadata": {},
   "source": [
    "# Define the bi-linearly product\n",
    "* object: vecSym, scalarTimes\n",
    "* mathod: dot product :  $dot(a \\mathbf{p},\\mathbf{\\epsilon})=a \\mathbf{p}\\cdot\\mathbf{\\epsilon}$\n",
    "* coefficient of a monomial:$Coefficient(f,m)$"
   ]
  },
  {
   "cell_type": "code",
   "execution_count": 1,
   "metadata": {},
   "outputs": [],
   "source": [
    "using SymEngine"
   ]
  },
  {
   "cell_type": "code",
   "execution_count": 2,
   "metadata": {},
   "outputs": [
    {
     "name": "stdout",
     "output_type": "stream",
     "text": [
      "Julia Version 1.1.0\n",
      "Commit 80516ca202 (2019-01-21 21:24 UTC)\n",
      "Platform Info:\n",
      "  OS: macOS (x86_64-apple-darwin14.5.0)\n",
      "  CPU: Intel(R) Core(TM) i5-7360U CPU @ 2.30GHz\n",
      "  WORD_SIZE: 64\n",
      "  LIBM: libopenlibm\n",
      "  LLVM: libLLVM-6.0.1 (ORCJIT, skylake)\n"
     ]
    }
   ],
   "source": [
    "versioninfo()"
   ]
  },
  {
   "cell_type": "code",
   "execution_count": 3,
   "metadata": {},
   "outputs": [],
   "source": [
    "struct vecSym <: Number\n",
    "    name::String\n",
    "    function vecSym(x::String)\n",
    "        new(x)\n",
    "    end\n",
    "end"
   ]
  },
  {
   "cell_type": "code",
   "execution_count": 4,
   "metadata": {},
   "outputs": [],
   "source": [
    "function Base.show(io::IO, vec::vecSym)\n",
    "    print(io, (\"\\033[1m\"*vec.name*\"\\x1b[0m\"))\n",
    "               # Black \\033[1m;Oringe:\\x1b[1;31m;normal:\\x1b[0m\n",
    "end"
   ]
  },
  {
   "cell_type": "code",
   "execution_count": 5,
   "metadata": {},
   "outputs": [],
   "source": [
    "struct scalarTimes\n",
    "    scalar::Basic\n",
    "    vec::vecSym\n",
    "    function scalarTimes(x::Basic,y::vecSym)\n",
    "        new(x,y)\n",
    "    end\n",
    "end\n",
    "function Base.show(io::IO, y::scalarTimes)\n",
    "    print(io,y.scalar,y.vec)\n",
    "end\n",
    "struct vecAdd\n",
    "    veca\n",
    "    function vecAdd(x)\n",
    "        new(x)\n",
    "    end\n",
    "end\n",
    "\n",
    "function Base.show(io::IO, y::vecAdd)\n",
    "    print(io, \"+\",\"(\",y.veca,\")\")\n",
    "end"
   ]
  },
  {
   "cell_type": "code",
   "execution_count": 6,
   "metadata": {},
   "outputs": [
    {
     "data": {
      "text/plain": [
       "+ (generic function with 172 methods)"
      ]
     },
     "execution_count": 6,
     "metadata": {},
     "output_type": "execute_result"
    }
   ],
   "source": [
    "import Base.*\n",
    "*(x::Basic,y::vecSym)= scalarTimes(x,y)\n",
    "import Base.+\n",
    "+(x::vecSym,y::vecSym)= vecAdd((x,y))\n",
    "+(x::vecSym,y...)= vecAdd((x,y...))\n",
    "+(x::scalarTimes,y::vecSym)= vecAdd((x,y))\n",
    "+(x::scalarTimes,y::scalarTimes)= vecAdd((x,y))\n",
    "+(x::scalarTimes,y...)= vecAdd((x,y...))\n",
    "+(x::Tuple)= vecAdd(x)"
   ]
  },
  {
   "cell_type": "code",
   "execution_count": 7,
   "metadata": {},
   "outputs": [
    {
     "data": {
      "text/plain": [
       "dot (generic function with 1 method)"
      ]
     },
     "execution_count": 7,
     "metadata": {},
     "output_type": "execute_result"
    }
   ],
   "source": [
    "function dot(x::vecSym,y::vecSym)\n",
    "    xn=x.name;\n",
    "    yn=y.name;\n",
    "    if x.name<y.name \n",
    "        return symbols(\"$x\"*\"⋅\"*\"$y\")\n",
    "    else\n",
    "        return symbols(\"$y\"*\"⋅\"*\"$x\")\n",
    "    end\n",
    "end"
   ]
  },
  {
   "cell_type": "code",
   "execution_count": 102,
   "metadata": {},
   "outputs": [
    {
     "data": {
      "text/plain": [
       "dot (generic function with 8 methods)"
      ]
     },
     "execution_count": 102,
     "metadata": {},
     "output_type": "execute_result"
    }
   ],
   "source": [
    "function dot(x::scalarTimes,y::vecSym)\n",
    "    x.scalar*dot(x.vec,y)\n",
    "end\n",
    "function dot(y::vecSym,x::scalarTimes)\n",
    "    dot(x::scalarTimes,y::vecSym)\n",
    "end\n",
    "function dot(x::vecAdd,y::vecSym)\n",
    "    xx = x.veca;\n",
    "    s=0;\n",
    "    for i=1:length(xx)\n",
    "       s+=dot(xx[i],y)\n",
    "    end\n",
    "    return s\n",
    "end\n",
    "function dot(y::vecSym,x::vecAdd)\n",
    "    dot(x::vecAdd,y::vecSym)\n",
    "end\n",
    "function dot(x::vecAdd,y::vecAdd)\n",
    "    yy = y.veca;\n",
    "    s=0;\n",
    "    for i=1:length(yy)\n",
    "       s+=dot(x,yy[i])\n",
    "    end\n",
    "    return s\n",
    "end\n",
    "function dot(x::vecAdd,y::scalarTimes)\n",
    "   y.scalar*dot(x,y.vec)\n",
    "end\n",
    "function dot(x::Tuple, y::vecSym)\n",
    "    # s = 0\n",
    "   # for i in x\n",
    "   #    s+=dot(x[i],y)\n",
    "   # end\n",
    "    s = 0\n",
    "    for i=1:length(x)\n",
    "       s+=dot(x[i],y)\n",
    "    end\n",
    "    return s\n",
    "end"
   ]
  },
  {
   "cell_type": "code",
   "execution_count": 9,
   "metadata": {},
   "outputs": [],
   "source": [
    "p_1=vecSym(\"P₁\");p_2=vecSym(\"P₂\");p_3=vecSym(\"P₃\");p_4=vecSym(\"P₄\");p_5=vecSym(\"P₅\");p_6=vecSym(\"P₆\");\n",
    "p_7=vecSym(\"P₇\");\n",
    "ϵ_1=vecSym(\"ϵ₁\");\n",
    "ϵ_2=vecSym(\"ϵ₂\");ϵ_3=vecSym(\"ϵ₃\");ϵ_4=vecSym(\"ϵ₄\");ϵ_5=vecSym(\"ϵ₅\");ϵ_6=vecSym(\"ϵ₆\");ϵ_7=vecSym(\"ϵ₇\");\n",
    "a_1=symbols(\"a₁\");\n",
    "a_2=symbols(\"a₂\");\n",
    "a_3=symbols(\"a₃\");"
   ]
  },
  {
   "cell_type": "markdown",
   "metadata": {},
   "source": [
    "#### Examples"
   ]
  },
  {
   "cell_type": "code",
   "execution_count": 10,
   "metadata": {},
   "outputs": [],
   "source": [
    "tt=dot(ϵ_1,p_2)dot(ϵ_3,p_2)dot(ϵ_4,ϵ_7)dot(ϵ_5,p_1)dot(ϵ_6,p_1);"
   ]
  },
  {
   "cell_type": "code",
   "execution_count": 11,
   "metadata": {},
   "outputs": [
    {
     "data": {
      "text/plain": [
       "true"
      ]
     },
     "execution_count": 11,
     "metadata": {},
     "output_type": "execute_result"
    }
   ],
   "source": [
    "p_1.name[2]==ϵ_1.name[3]"
   ]
  },
  {
   "cell_type": "code",
   "execution_count": 92,
   "metadata": {},
   "outputs": [
    {
     "data": {
      "text/plain": [
       "a₁\u001b[1mP₁\u001b[0m"
      ]
     },
     "execution_count": 92,
     "metadata": {},
     "output_type": "execute_result"
    }
   ],
   "source": [
    "(a_1*p_1+a_2*p_2+a_1*p_3+a_2*p_4).veca[1]"
   ]
  },
  {
   "cell_type": "code",
   "execution_count": 104,
   "metadata": {},
   "outputs": [
    {
     "data": {
      "text/plain": [
       "a₁^2*\u001b[1mP₁\u001b[0m⋅\u001b[1mϵ₁\u001b[0m + a₁^2*\u001b[1mP₃\u001b[0m⋅\u001b[1mϵ₁\u001b[0m + a₂^2*\u001b[1mP₂\u001b[0m⋅\u001b[1mϵ₂\u001b[0m + a₂^2*\u001b[1mP₄\u001b[0m⋅\u001b[1mϵ₂\u001b[0m + a₁*a₂*\u001b[1mP₁\u001b[0m⋅\u001b[1mϵ₂\u001b[0m + a₁*a₂*\u001b[1mP₂\u001b[0m⋅\u001b[1mϵ₁\u001b[0m + a₁*a₂*\u001b[1mP₃\u001b[0m⋅\u001b[1mϵ₂\u001b[0m + a₁*a₂*\u001b[1mP₄\u001b[0m⋅\u001b[1mϵ₁\u001b[0m"
      ]
     },
     "execution_count": 104,
     "metadata": {},
     "output_type": "execute_result"
    }
   ],
   "source": [
    "expand(dot(a_1*p_1+a_2*p_2+a_1*p_3+a_2*p_4,a_1*ϵ_1+a_2*ϵ_2))"
   ]
  },
  {
   "cell_type": "markdown",
   "metadata": {},
   "source": [
    "#### Try to get the coefficients for the dot product monomials"
   ]
  },
  {
   "cell_type": "code",
   "execution_count": 70,
   "metadata": {},
   "outputs": [],
   "source": [
    "tt1list=get_args(tt1);"
   ]
  },
  {
   "cell_type": "code",
   "execution_count": 51,
   "metadata": {},
   "outputs": [
    {
     "name": "stdout",
     "output_type": "stream",
     "text": [
      "Basic\n",
      "  ptr: Ptr{Nothing} @0x00007fd3ce8664b0\n"
     ]
    }
   ],
   "source": [
    "dump(tt1)"
   ]
  },
  {
   "cell_type": "code",
   "execution_count": 48,
   "metadata": {},
   "outputs": [
    {
     "data": {
      "text/plain": [
       ":s2"
      ]
     },
     "execution_count": 48,
     "metadata": {},
     "output_type": "execute_result"
    }
   ],
   "source": [
    "s_1=Symbol(\"s1\")\n",
    "s_2=Symbol(\"s2\")"
   ]
  },
  {
   "cell_type": "code",
   "execution_count": 50,
   "metadata": {},
   "outputs": [
    {
     "name": "stdout",
     "output_type": "stream",
     "text": [
      "Expr\n",
      "  head: Symbol call\n",
      "  args: Array{Any}((3,))\n",
      "    1: Symbol -\n",
      "    2: Expr\n",
      "      head: Symbol call\n",
      "      args: Array{Any}((3,))\n",
      "        1: Symbol +\n",
      "        2: Int64 2\n",
      "        3: Expr\n",
      "          head: Symbol call\n",
      "          args: Array{Any}((3,))\n",
      "            1: Symbol *\n",
      "            2: Symbol a\n",
      "            3: Symbol b\n",
      "    3: Symbol c\n"
     ]
    }
   ],
   "source": [
    "dump(:(2+a*b-c))"
   ]
  },
  {
   "cell_type": "code",
   "execution_count": 90,
   "metadata": {},
   "outputs": [
    {
     "data": {
      "text/plain": [
       "2-element Array{Basic,1}:\n",
       " a₁\n",
       " a₂"
      ]
     },
     "execution_count": 90,
     "metadata": {},
     "output_type": "execute_result"
    }
   ],
   "source": [
    "free_symbols(tt1)"
   ]
  },
  {
   "cell_type": "code",
   "execution_count": 88,
   "metadata": {},
   "outputs": [
    {
     "data": {
      "text/plain": [
       ":(10 * a₁ * a₂ ^ 9)"
      ]
     },
     "execution_count": 88,
     "metadata": {},
     "output_type": "execute_result"
    }
   ],
   "source": [
    "tt2=convert(Expr,tt1list[2])"
   ]
  },
  {
   "cell_type": "code",
   "execution_count": 81,
   "metadata": {},
   "outputs": [
    {
     "name": "stdout",
     "output_type": "stream",
     "text": [
      "Expr\n",
      "  head: Symbol call\n",
      "  args: Array{Any}((3,))\n",
      "    1: Symbol ^\n",
      "    2: Symbol a₂\n",
      "    3: Int64 10\n"
     ]
    }
   ],
   "source": [
    "tt3=dump(tt2)"
   ]
  },
  {
   "cell_type": "code",
   "execution_count": 89,
   "metadata": {},
   "outputs": [
    {
     "data": {
      "text/plain": [
       "4-element Array{Any,1}:\n",
       "   :*       \n",
       " 10         \n",
       "   :a₁      \n",
       "   :(a₂ ^ 9)"
      ]
     },
     "execution_count": 89,
     "metadata": {},
     "output_type": "execute_result"
    }
   ],
   "source": [
    "tt2.args"
   ]
  },
  {
   "cell_type": "code",
   "execution_count": null,
   "metadata": {},
   "outputs": [],
   "source": []
  }
 ],
 "metadata": {
  "kernelspec": {
   "display_name": "Julia nodeps 1.1.0",
   "language": "julia",
   "name": "julia-nodeps-1.1"
  },
  "language_info": {
   "file_extension": ".jl",
   "mimetype": "application/julia",
   "name": "julia",
   "version": "1.1.0"
  }
 },
 "nbformat": 4,
 "nbformat_minor": 2
}
