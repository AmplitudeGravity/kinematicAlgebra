{
 "cells": [
  {
   "cell_type": "markdown",
   "metadata": {},
   "source": [
    "# Define the bi-linearly product\n",
    "* object: vecSym, scalarTimes\n",
    "* mathod: dot product :  $dot(a \\mathbf{p},\\mathbf{\\epsilon})=a \\mathbf{p}\\cdot\\mathbf{\\epsilon}$\n"
   ]
  },
  {
   "cell_type": "code",
   "execution_count": 1,
   "metadata": {},
   "outputs": [],
   "source": [
    "using SymEngine\n",
    "using Latexify\n",
    "using LaTeXStrings"
   ]
  },
  {
   "cell_type": "code",
   "execution_count": 2,
   "metadata": {},
   "outputs": [],
   "source": [
    "struct vecSym\n",
    "    name::String\n",
    "    function vecSym(x::String)\n",
    "        new(x)\n",
    "    end\n",
    "end"
   ]
  },
  {
   "cell_type": "code",
   "execution_count": 3,
   "metadata": {},
   "outputs": [],
   "source": [
    "function Base.show(io::IO, vec::vecSym)\n",
    "    print(io, \"\\033[1m\"*vec.name)\n",
    "end"
   ]
  },
  {
   "cell_type": "code",
   "execution_count": 4,
   "metadata": {},
   "outputs": [],
   "source": [
    "struct scalarTimes\n",
    "    scalar::Basic\n",
    "    vec::vecSym\n",
    "    function scalarTimes(x::Basic,y::vecSym)\n",
    "        new(x,y)\n",
    "    end\n",
    "end\n",
    "function Base.show(io::IO, y::scalarTimes)\n",
    "    print(io, y.scalar,y.vec)\n",
    "end\n",
    "struct vecAdd\n",
    "    veca\n",
    "    vecb\n",
    "    function vecAdd(x,y)\n",
    "        new(x,y)\n",
    "    end\n",
    "end\n",
    "\n",
    "function Base.show(io::IO, y::vecAdd)\n",
    "    print(io, \"(\",y.veca,\"+\",y.vecb,\")\")\n",
    "end"
   ]
  },
  {
   "cell_type": "code",
   "execution_count": 5,
   "metadata": {},
   "outputs": [
    {
     "data": {
      "text/plain": [
       "+ (generic function with 169 methods)"
      ]
     },
     "execution_count": 5,
     "metadata": {},
     "output_type": "execute_result"
    }
   ],
   "source": [
    "import Base.*\n",
    "*(x::Basic,y::vecSym)= scalarTimes(x,y)\n",
    "import Base.+\n",
    "+(x::vecSym,y::vecSym)= vecAdd(x,y)\n",
    "+(x::scalarTimes,y::vecSym)= vecAdd(x,y)\n",
    "+(x::scalarTimes,y::scalarTimes)= vecAdd(x,y)"
   ]
  },
  {
   "cell_type": "code",
   "execution_count": 6,
   "metadata": {},
   "outputs": [
    {
     "data": {
      "text/plain": [
       "dot (generic function with 1 method)"
      ]
     },
     "execution_count": 6,
     "metadata": {},
     "output_type": "execute_result"
    }
   ],
   "source": [
    "function dot(x::vecSym,y::vecSym)\n",
    "    xn=x.name;\n",
    "    yn=y.name;\n",
    "    if x.name<y.name \n",
    "        return symbols(\"$x\"*\"⋅\"*\"$y\")\n",
    "    else\n",
    "        return symbols(\"$y\"*\"⋅\"*\"$x\")\n",
    "    end\n",
    "end"
   ]
  },
  {
   "cell_type": "code",
   "execution_count": 18,
   "metadata": {},
   "outputs": [
    {
     "data": {
      "text/plain": [
       "dot (generic function with 7 methods)"
      ]
     },
     "execution_count": 18,
     "metadata": {},
     "output_type": "execute_result"
    }
   ],
   "source": [
    "function dot(x::scalarTimes,y::vecSym)\n",
    "    x.scalar*dot(x.vec,y)\n",
    "end\n",
    "function dot(y::vecSym,x::scalarTimes)\n",
    "    dot(x::scalarTimes,y::vecSym)\n",
    "end\n",
    "function dot(x::vecAdd,y::vecSym)\n",
    "   dot(x.veca,y)+dot(x.vecb,y)\n",
    "end\n",
    "function dot(y::vecSym,x::vecAdd)\n",
    "    dot(x::vecAdd,y::vecSym)\n",
    "end\n",
    "function dot(x::vecAdd,y::vecAdd)\n",
    "    dot(x,y.veca)+dot(x,y.vecb)\n",
    "end\n",
    "function dot(x::vecAdd,y::scalarTimes)\n",
    "   y.scalar*dot(x,y.vec)\n",
    "end"
   ]
  },
  {
   "cell_type": "code",
   "execution_count": 16,
   "metadata": {},
   "outputs": [],
   "source": [
    "p_1=vecSym(\"P₁\");\n",
    "p_2=vecSym(\"P₂\");\n",
    "ϵ_1=vecSym(\"ϵ₁\");\n",
    "ϵ_2=vecSym(\"ϵ₂\");\n",
    "a_1=symbols(\"a₁\");\n",
    "a_2=symbols(\"a₂\");"
   ]
  },
  {
   "cell_type": "markdown",
   "metadata": {},
   "source": [
    "#### Examples"
   ]
  },
  {
   "cell_type": "code",
   "execution_count": 26,
   "metadata": {},
   "outputs": [
    {
     "data": {
      "text/plain": [
       "a₁*\u001b[1mP₁⋅\u001b[1mϵ₂"
      ]
     },
     "execution_count": 26,
     "metadata": {},
     "output_type": "execute_result"
    }
   ],
   "source": [
    "dot(a*p_1,ϵ)"
   ]
  },
  {
   "cell_type": "code",
   "execution_count": 25,
   "metadata": {},
   "outputs": [
    {
     "data": {
      "text/plain": [
       "a₁^2*\u001b[1mP₁⋅\u001b[1mϵ₁ + a₂^2*\u001b[1mP₂⋅\u001b[1mϵ₂ + a₁*a₂*\u001b[1mP₁⋅\u001b[1mϵ₂ + a₁*a₂*\u001b[1mP₂⋅\u001b[1mϵ₁"
      ]
     },
     "execution_count": 25,
     "metadata": {},
     "output_type": "execute_result"
    }
   ],
   "source": [
    "expand(dot(a_1*p_1+a_2*p_2,a_1*ϵ_1+a_2*ϵ_2))"
   ]
  }
 ],
 "metadata": {
  "kernelspec": {
   "display_name": "Julia nodeps 1.1.0",
   "language": "julia",
   "name": "julia-nodeps-1.1"
  },
  "language_info": {
   "file_extension": ".jl",
   "mimetype": "application/julia",
   "name": "julia",
   "version": "1.1.0"
  }
 },
 "nbformat": 4,
 "nbformat_minor": 2
}
